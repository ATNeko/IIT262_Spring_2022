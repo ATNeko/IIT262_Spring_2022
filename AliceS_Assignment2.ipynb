{
  "nbformat": 4,
  "nbformat_minor": 0,
  "metadata": {
    "colab": {
      "name": "AliceS_Assignment2.ipynb",
      "provenance": [],
      "collapsed_sections": [],
      "mount_file_id": "1M0u-ZU8JWcyqSGka5fbwQIplhIh03H9J",
      "authorship_tag": "ABX9TyMTQe7CV6pVs2UAAr0SiSVW",
      "include_colab_link": true
    },
    "kernelspec": {
      "name": "python3",
      "display_name": "Python 3"
    },
    "language_info": {
      "name": "python"
    }
  },
  "cells": [
    {
      "cell_type": "markdown",
      "metadata": {
        "id": "view-in-github",
        "colab_type": "text"
      },
      "source": [
        "<a href=\"https://colab.research.google.com/github/ATNeko/IIT262_Spring_2022/blob/main/AliceS_Assignment2.ipynb\" target=\"_parent\"><img src=\"https://colab.research.google.com/assets/colab-badge.svg\" alt=\"Open In Colab\"/></a>"
      ]
    },
    {
      "cell_type": "code",
      "execution_count": 1,
      "metadata": {
        "id": "EvwreM4hrH-7",
        "colab": {
          "base_uri": "https://localhost:8080/"
        },
        "outputId": "7e81df58-9e4a-4ee4-e857-c926e19d65cf"
      },
      "outputs": [
        {
          "output_type": "stream",
          "name": "stdout",
          "text": [
            "   years  developmentCost  operationalCost  valueOfBenefits\n",
            "0      0             -100                0                0\n",
            "1      1              -30              -10               25\n",
            "2      2                0              -15               55\n",
            "3      3                0              -15               85\n"
          ]
        }
      ],
      "source": [
        "import pandas as pd\n",
        "import math\n",
        "\n",
        "#read data\n",
        "\n",
        "dataT=pd.read_csv('/content/drive/MyDrive/262-CBA.csv')\n",
        "print(dataT)\n"
      ]
    },
    {
      "cell_type": "code",
      "source": [
        "discountRate = .003\n",
        "#Compounting discount over years\n",
        "\n",
        "discountFactor = [0,0,0,0]\n",
        "\n",
        "for year in dataT['years']:\n",
        "  discountFactor[year]=1/math.pow(1+discountRate, year)\n",
        "\n",
        "dataT['discountFactor']=[round(num,2) for num in discountFactor]\n",
        "print(dataT)\n"
      ],
      "metadata": {
        "colab": {
          "base_uri": "https://localhost:8080/"
        },
        "id": "pcgIrE0SuVFc",
        "outputId": "4e61f8df-a727-4279-e2f7-84d45f7bfd5a"
      },
      "execution_count": 2,
      "outputs": [
        {
          "output_type": "stream",
          "name": "stdout",
          "text": [
            "   years  developmentCost  operationalCost  valueOfBenefits  discountFactor\n",
            "0      0             -100                0                0            1.00\n",
            "1      1              -30              -10               25            1.00\n",
            "2      2                0              -15               55            0.99\n",
            "3      3                0              -15               85            0.99\n"
          ]
        }
      ]
    },
    {
      "cell_type": "code",
      "source": [
        "#sum of all benefits and cost values\n",
        "NetBC=[0,0,0,0]\n",
        "\n",
        "for year in dataT['years']:\n",
        "  NetBC[year]=dataT['developmentCost'][year]+dataT['operationalCost'][year]+dataT['valueOfBenefits'][year]\n",
        "\n",
        "dataT['NetBC'] =NetBC\n",
        "print(dataT)"
      ],
      "metadata": {
        "colab": {
          "base_uri": "https://localhost:8080/"
        },
        "id": "p_-CizSsvu28",
        "outputId": "a0d12a15-6c49-498e-9cf8-9093110a088b"
      },
      "execution_count": 7,
      "outputs": [
        {
          "output_type": "stream",
          "name": "stdout",
          "text": [
            "   years  developmentCost  ...  discountFactor  NetBC\n",
            "0      0             -100  ...            1.00   -100\n",
            "1      1              -30  ...            1.00    -15\n",
            "2      2                0  ...            0.99     40\n",
            "3      3                0  ...            0.99     70\n",
            "\n",
            "[4 rows x 6 columns]\n"
          ]
        }
      ]
    },
    {
      "cell_type": "code",
      "source": [
        "#Net Present Value\n",
        "\n",
        "NPV=[0,0,0,0]\n",
        "\n",
        "for year in dataT['years']:\n",
        "  NPV[year]=dataT['NetBC'][year]*dataT['discountFactor'][year]\n",
        "\n",
        "\n",
        "dataT['NPV']=[round(num,2) for num in NPV]\n",
        "print(dataT)"
      ],
      "metadata": {
        "colab": {
          "base_uri": "https://localhost:8080/"
        },
        "id": "KOz2x2L8zt42",
        "outputId": "61c49cf3-61a3-449b-ed73-a3bb5eb6adce"
      },
      "execution_count": 9,
      "outputs": [
        {
          "output_type": "stream",
          "name": "stdout",
          "text": [
            "   years  developmentCost  operationalCost  ...  discountFactor  NetBC    NPV\n",
            "0      0             -100                0  ...            1.00   -100 -100.0\n",
            "1      1              -30              -10  ...            1.00    -15  -15.0\n",
            "2      2                0              -15  ...            0.99     40   39.6\n",
            "3      3                0              -15  ...            0.99     70   69.3\n",
            "\n",
            "[4 rows x 7 columns]\n"
          ]
        }
      ]
    }
  ]
}