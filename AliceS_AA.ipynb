{
  "nbformat": 4,
  "nbformat_minor": 0,
  "metadata": {
    "colab": {
      "name": "AliceS_AA.ipynb",
      "provenance": [],
      "mount_file_id": "1aXSbFz8dRSmtL4dcZ6v1aL9wxAhhLJeD",
      "authorship_tag": "ABX9TyPwcb8Y/gCsPWTzMvN6l5th",
      "include_colab_link": true
    },
    "kernelspec": {
      "name": "python3",
      "display_name": "Python 3"
    },
    "language_info": {
      "name": "python"
    }
  },
  "cells": [
    {
      "cell_type": "markdown",
      "metadata": {
        "id": "view-in-github",
        "colab_type": "text"
      },
      "source": [
        "<a href=\"https://colab.research.google.com/github/ATNeko/IIT262_Spring_2022/blob/main/AliceS_AA.ipynb\" target=\"_parent\"><img src=\"https://colab.research.google.com/assets/colab-badge.svg\" alt=\"Open In Colab\"/></a>"
      ]
    },
    {
      "cell_type": "code",
      "execution_count": 10,
      "metadata": {
        "colab": {
          "base_uri": "https://localhost:8080/"
        },
        "id": "OvKqQDvdpqWr",
        "outputId": "402e6fd3-5879-4522-8a38-fa69f12cfb67"
      },
      "outputs": [
        {
          "output_type": "stream",
          "name": "stdout",
          "text": [
            "Empty DataFrame\n",
            "Columns: [criteria, weight, ratingA, ratingB, scoreA, scoreB]\n",
            "Index: []\n"
          ]
        }
      ],
      "source": [
        "import pandas as pd\n",
        "AA=pd.DataFrame(columns=['criteria', 'weight', 'ratingA', 'ratingB', 'scoreA', 'scoreB'])\n",
        "print(AA)"
      ]
    },
    {
      "cell_type": "code",
      "source": [
        "#add criteria list\n",
        "AA['criteria']=['risk', 'ROI', 'customer satisfaction', 'feasability', 'strategic alignment']\n",
        "print(AA)"
      ],
      "metadata": {
        "colab": {
          "base_uri": "https://localhost:8080/"
        },
        "id": "j0C6DzFVs7ou",
        "outputId": "7c1589ad-0bf4-4a07-e1d2-bbfba3d5a440"
      },
      "execution_count": 11,
      "outputs": [
        {
          "output_type": "stream",
          "name": "stdout",
          "text": [
            "                criteria weight ratingA ratingB scoreA scoreB\n",
            "0                   risk    NaN     NaN     NaN    NaN    NaN\n",
            "1                    ROI    NaN     NaN     NaN    NaN    NaN\n",
            "2  customer satisfaction    NaN     NaN     NaN    NaN    NaN\n",
            "3            feasability    NaN     NaN     NaN    NaN    NaN\n",
            "4    strategic alignment    NaN     NaN     NaN    NaN    NaN\n"
          ]
        }
      ]
    },
    {
      "cell_type": "code",
      "source": [
        "#identify weights, which show rlative importance f each criteria\n",
        "#weights must add up to 100 or 1\n",
        "\n",
        "AA['weight']=[0.2,0.15,0.15,0.2,0.3]\n",
        "print(AA)"
      ],
      "metadata": {
        "colab": {
          "base_uri": "https://localhost:8080/"
        },
        "id": "5vZx7-UOuXy2",
        "outputId": "4c32b88f-6e1d-415a-8949-9ceb64b78ca7"
      },
      "execution_count": 12,
      "outputs": [
        {
          "output_type": "stream",
          "name": "stdout",
          "text": [
            "                criteria  weight ratingA ratingB scoreA scoreB\n",
            "0                   risk    0.20     NaN     NaN    NaN    NaN\n",
            "1                    ROI    0.15     NaN     NaN    NaN    NaN\n",
            "2  customer satisfaction    0.15     NaN     NaN    NaN    NaN\n",
            "3            feasability    0.20     NaN     NaN    NaN    NaN\n",
            "4    strategic alignment    0.30     NaN     NaN    NaN    NaN\n"
          ]
        }
      ]
    },
    {
      "cell_type": "code",
      "source": [
        "#rate each alt across all criteria, choose a scale 1-5, 1-7, 1-10, or 1-3. Higher number = better in respect to criteria\n",
        "\n",
        "AA['ratingA']=[6,4,3,9,8]\n",
        "AA['ratingB']=[5,6,10,4,7]\n",
        "\n",
        "#calculate partial scores. Multiply weight * ratings\n",
        "#use iterrows() in Python is not recommended - is an antipatern\n",
        "\n",
        "for index, row, in AA.iterrows():\n",
        "  AA['scoreA'][index]=row['ratingA']*row['weight']\n",
        "  AA['scoreB'][index]=row['ratingB']*row['weight']\n",
        "\n",
        "print(AA)"
      ],
      "metadata": {
        "colab": {
          "base_uri": "https://localhost:8080/"
        },
        "id": "I9zsZqe4utCb",
        "outputId": "47babf91-80a1-462b-a4f0-d3737512ad0e"
      },
      "execution_count": 13,
      "outputs": [
        {
          "output_type": "stream",
          "name": "stdout",
          "text": [
            "                criteria  weight  ratingA  ratingB scoreA scoreB\n",
            "0                   risk    0.20        6        5    1.2      1\n",
            "1                    ROI    0.15        4        6    0.6    0.9\n",
            "2  customer satisfaction    0.15        3       10   0.45    1.5\n",
            "3            feasability    0.20        9        4    1.8    0.8\n",
            "4    strategic alignment    0.30        8        7    2.4    2.1\n"
          ]
        },
        {
          "output_type": "stream",
          "name": "stderr",
          "text": [
            "/usr/local/lib/python3.7/dist-packages/ipykernel_launcher.py:10: SettingWithCopyWarning: \n",
            "A value is trying to be set on a copy of a slice from a DataFrame\n",
            "\n",
            "See the caveats in the documentation: https://pandas.pydata.org/pandas-docs/stable/user_guide/indexing.html#returning-a-view-versus-a-copy\n",
            "  # Remove the CWD from sys.path while we load stuff.\n",
            "/usr/local/lib/python3.7/dist-packages/ipykernel_launcher.py:11: SettingWithCopyWarning: \n",
            "A value is trying to be set on a copy of a slice from a DataFrame\n",
            "\n",
            "See the caveats in the documentation: https://pandas.pydata.org/pandas-docs/stable/user_guide/indexing.html#returning-a-view-versus-a-copy\n",
            "  # This is added back by InteractiveShellApp.init_path()\n"
          ]
        }
      ]
    },
    {
      "cell_type": "code",
      "source": [
        "totalScoreA=0\n",
        "totalScoreB=0\n",
        "for index, row in AA.iterrows():\n",
        "  totalScoreA+=row['scoreA']\n",
        "  totalScoreB+=row['scoreB']\n",
        "\n",
        "print('total score for alternative A is {:.2f} and for B is {:.2f}'.format(totalScoreA, totalScoreB))"
      ],
      "metadata": {
        "colab": {
          "base_uri": "https://localhost:8080/"
        },
        "id": "7pudFwWrwFnt",
        "outputId": "734f7a45-b809-476d-d824-7333cae43e63"
      },
      "execution_count": 14,
      "outputs": [
        {
          "output_type": "stream",
          "name": "stdout",
          "text": [
            "total score for alternative A is 6.45 and for B is 6.30\n"
          ]
        }
      ]
    }
  ]
}