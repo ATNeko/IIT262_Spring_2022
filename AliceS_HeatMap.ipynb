{
  "nbformat": 4,
  "nbformat_minor": 0,
  "metadata": {
    "colab": {
      "name": "AliceS_HeatMap",
      "provenance": [],
      "authorship_tag": "ABX9TyO4ibEm1RSyPqVcbOvQr2kJ",
      "include_colab_link": true
    },
    "kernelspec": {
      "name": "python3",
      "display_name": "Python 3"
    },
    "language_info": {
      "name": "python"
    }
  },
  "cells": [
    {
      "cell_type": "markdown",
      "metadata": {
        "id": "view-in-github",
        "colab_type": "text"
      },
      "source": [
        "<a href=\"https://colab.research.google.com/github/ATNeko/IIT262_Spring_2022/blob/main/AliceS_HeatMap.ipynb\" target=\"_parent\"><img src=\"https://colab.research.google.com/assets/colab-badge.svg\" alt=\"Open In Colab\"/></a>"
      ]
    },
    {
      "cell_type": "code",
      "execution_count": 20,
      "metadata": {
        "colab": {
          "base_uri": "https://localhost:8080/"
        },
        "id": "0BMp50maaVFv",
        "outputId": "a1cb6392-8ffa-48a0-967d-724925a44c98"
      },
      "outputs": [
        {
          "output_type": "stream",
          "name": "stdout",
          "text": [
            "          risk  likelihood  impact  score\n",
            "0        users        0.25       1   0.25\n",
            "1         team        0.17       3   0.51\n",
            "2       budget        0.75       5   3.75\n",
            "3     security        0.10      10   1.00\n",
            "4  competition        0.20       7   1.40\n"
          ]
        }
      ],
      "source": [
        "import seaborn as sns\n",
        "import pandas as pd\n",
        "import numpy as np\n",
        "\n",
        "#create dataframe\n",
        "df = pd.DataFrame(columns=['risk', 'likelihood', 'impact', 'score'])\n",
        "df['risk'] = ['users', 'team', 'budget', 'security', 'competition']\n",
        "df['likelihood']=[0.25,0.17,0.75,0.1,0.2]\n",
        "df['impact']=[1,3,5,10,7]\n",
        "df['score']=df['impact']*df['likelihood']\n",
        "print(df)"
      ]
    },
    {
      "cell_type": "code",
      "source": [
        "scoresPivot=df.pivot('impact', 'likelihood', 'score')\n",
        "print(scoresPivot)\n",
        "\n",
        "labelsPivot= df.pivot('impact', 'likelihood', 'risk')\n",
        "print(labelsPivot)\n",
        "\n",
        "#rplace null labels with empty strings\n",
        "labelsPivot.fillna('', inplace = True)\n",
        "\n",
        "#simpler heatmap\n",
        "p1=sns.heatmap(scoresPivot, cmap=\"Spectral_r\", annot=labelsPivot, fmt='')"
      ],
      "metadata": {
        "colab": {
          "base_uri": "https://localhost:8080/",
          "height": 522
        },
        "id": "srnWUwE6cLu2",
        "outputId": "a3064b6f-8a10-4dc9-d323-283f3cabf5f4"
      },
      "execution_count": 21,
      "outputs": [
        {
          "output_type": "stream",
          "name": "stdout",
          "text": [
            "likelihood  0.10  0.17  0.20  0.25  0.75\n",
            "impact                                  \n",
            "1            NaN   NaN   NaN  0.25   NaN\n",
            "3            NaN  0.51   NaN   NaN   NaN\n",
            "5            NaN   NaN   NaN   NaN  3.75\n",
            "7            NaN   NaN   1.4   NaN   NaN\n",
            "10           1.0   NaN   NaN   NaN   NaN\n",
            "likelihood      0.10  0.17         0.20   0.25    0.75\n",
            "impact                                                \n",
            "1                NaN   NaN          NaN  users     NaN\n",
            "3                NaN  team          NaN    NaN     NaN\n",
            "5                NaN   NaN          NaN    NaN  budget\n",
            "7                NaN   NaN  competition    NaN     NaN\n",
            "10          security   NaN          NaN    NaN     NaN\n"
          ]
        },
        {
          "output_type": "display_data",
          "data": {
            "image/png": "[encoded data removed]",
            "text/plain": [
              "<Figure size 432x288 with 2 Axes>"
            ]
          },
          "metadata": {
            "needs_background": "light"
          }
        }
      ]
    }
  ]
}